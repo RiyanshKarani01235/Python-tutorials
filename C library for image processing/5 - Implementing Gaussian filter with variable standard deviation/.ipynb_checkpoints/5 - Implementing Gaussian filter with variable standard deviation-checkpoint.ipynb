{
 "cells": [
  {
   "cell_type": "markdown",
   "metadata": {},
   "source": [
    "# setup"
   ]
  },
  {
   "cell_type": "code",
   "execution_count": 1,
   "metadata": {
    "collapsed": false
   },
   "outputs": [
    {
     "name": "stdout",
     "output_type": "stream",
     "text": [
      "Overwriting locate_file.py\n"
     ]
    }
   ],
   "source": [
    "%%file locate_file.py\n",
    "\n",
    "def locate_file() : \n",
    "    working_directory = ''\n",
    "    for element in __file__.split('/')[:-1] : \n",
    "        working_directory += element + '/'\n",
    "    return working_directory"
   ]
  },
  {
   "cell_type": "code",
   "execution_count": 2,
   "metadata": {
    "collapsed": false
   },
   "outputs": [],
   "source": [
    "import locate_file\n",
    "import os\n",
    "import matplotlib.pyplot as plt\n",
    "import matplotlib\n",
    "import numpy\n",
    "\n",
    "working_directory = locate_file.locate_file()\n",
    "os.chdir(working_directory)\n",
    "%matplotlib inline"
   ]
  },
  {
   "cell_type": "markdown",
   "metadata": {},
   "source": [
    "# convolution C function"
   ]
  },
  {
   "cell_type": "code",
   "execution_count": 3,
   "metadata": {
    "collapsed": false
   },
   "outputs": [
    {
     "name": "stdout",
     "output_type": "stream",
     "text": [
      "Overwriting convolution.c\n"
     ]
    }
   ],
   "source": [
    "%%file convolution.c\n",
    "#include<stdio.h>\n",
    "\n",
    "void convolution(int *image,int *kernel,int image_width, int image_height, int kernel_size, int kernel_normalizer) {\n",
    "    \n",
    "    int image_starting_x = 0;\n",
    "    int image_starting_y = 0;\n",
    "    int image_ending_x = image_width - kernel_size + 1;\n",
    "    int image_ending_y = image_height - kernel_size + 1;\n",
    "    \n",
    "    printf(\"kernel_size = %d\\n\",kernel_size);\n",
    "    \n",
    "    int i,j,u,v,sum;\n",
    "    j=0;\n",
    "    for(j=0;i<image_width;i++) {\n",
    "        printf(\"%d\\n\",*(image + j));\n",
    "    }\n",
    "    \n",
    "    for(i=image_starting_y;i<image_height;i++) {\n",
    "        for(j=image_starting_x;j<image_width;j++) {\n",
    "            \n",
    "            //current left top corner pixel is i,j\n",
    "            sum = 0;\n",
    "            for(u=0;u<kernel_size;u++) {\n",
    "                for(v=0;v<kernel_size;v++) {\n",
    "                    sum += (*(image + image_width*(i+u) + j+v))*(*(kernel + u*kernel_size + v));\n",
    "                }\n",
    "            }\n",
    "            *(image + (image_width*i) + j) = sum/kernel_normalizer;\n",
    "            \n",
    "            \n",
    "        }\n",
    "    }\n",
    "}"
   ]
  },
  {
   "cell_type": "markdown",
   "metadata": {},
   "source": [
    "# compiling"
   ]
  },
  {
   "cell_type": "code",
   "execution_count": 4,
   "metadata": {
    "collapsed": false
   },
   "outputs": [
    {
     "name": "stdout",
     "output_type": "stream",
     "text": [
      "convolution.so: Mach-O 64-bit dynamically linked shared library x86_64\r\n"
     ]
    }
   ],
   "source": [
    "os.system('cd ' + working_directory)\n",
    "!clang -c convolution.c\n",
    "!clang -o convolution.so -shared convolution.o\n",
    "!file convolution.so"
   ]
  },
  {
   "cell_type": "markdown",
   "metadata": {},
   "source": [
    "# python wrapper script"
   ]
  },
  {
   "cell_type": "code",
   "execution_count": 5,
   "metadata": {
    "collapsed": false
   },
   "outputs": [
    {
     "name": "stdout",
     "output_type": "stream",
     "text": [
      "Overwriting libconvolution.py\n"
     ]
    }
   ],
   "source": [
    "%%file libconvolution.py\n",
    "import ctypes\n",
    "import locate_file\n",
    "import numpy\n",
    "\n",
    "working_directory = locate_file.locate_file()\n",
    "\n",
    "_convolution_ = ctypes.cdll.LoadLibrary(working_directory + 'convolution.so')\n",
    "\n",
    "class two_d_array() : \n",
    "    \n",
    "    def from_param(self,param) : \n",
    "        typename = type(param).__name__\n",
    "        if hasattr(self,'from_'+typename) : \n",
    "            return getattr(self,'from_'+typename)(param)\n",
    "        elif isinstance(param,ctypes.Array) : \n",
    "            \n",
    "            return param\n",
    "        else : \n",
    "            raise TypeError('type %s not supported' %typename)\n",
    "    \n",
    "    def from_ndarray(self,param) : \n",
    "        c_array = numpy.ascontiguousarray(param,dtype=numpy.uint32)\n",
    "        pointer = c_array.ctypes\n",
    "        return pointer\n",
    "    \n",
    "    def from_list(self,param) : \n",
    "        return self.from_ndarray(param)\n",
    "    \n",
    "    def from_tuple(self,param) : \n",
    "        return self.from_ndarray(param)\n",
    "    \n",
    "two_d_array_ = two_d_array()\n",
    "\n",
    "_convolution_.convolution.argtypes = [two_d_array_,two_d_array_,ctypes.c_int,ctypes.c_int,ctypes.c_int,ctypes.c_int]\n",
    "_convolution_.convolution.restype = ctypes.c_void_p\n",
    "\n",
    "def convolution(image,kernel,kernel_normalizer) : \n",
    "    '''\n",
    "    ADD BORDER TO IMAGE\n",
    "    '''\n",
    "    image_c_array = numpy.ascontiguousarray(image,dtype=numpy.uint32)\n",
    "    kernel_c_array = numpy.ascontiguousarray(kernel,dtype=numpy.uint32)\n",
    "    _convolution_.convolution(image_c_array,kernel_c_array,len(image[0]),len(image),len(kernel),kernel_normalizer)\n",
    "    '''\n",
    "    REMOVE BORDER FROM IMAGE\n",
    "    '''\n",
    "    return image_c_array"
   ]
  },
  {
   "cell_type": "code",
   "execution_count": 7,
   "metadata": {
    "collapsed": false
   },
   "outputs": [],
   "source": [
    "import libconvolution\n",
    "import numpy"
   ]
  },
  {
   "cell_type": "code",
   "execution_count": 17,
   "metadata": {
    "collapsed": false
   },
   "outputs": [
    {
     "data": {
      "image/png": "[encoded data removed]",
      "text/plain": [
       "<matplotlib.figure.Figure at 0x105b25128>"
      ]
     },
     "metadata": {},
     "output_type": "display_data"
    }
   ],
   "source": [
    "def read_image(image_name) : \n",
    "    \n",
    "    def convert_to_harmless_image(image) : \n",
    "        return_image = []\n",
    "        for row in image :\n",
    "            return_image.append([])\n",
    "            for pixel in row : \n",
    "                return_image[-1].append(numpy.uint8(pixel*255))\n",
    "        return return_image\n",
    "    \n",
    "    def rgb_to_grayscale(image) : \n",
    "        return_image = []\n",
    "        for row in image : \n",
    "            return_image.append([])\n",
    "            for pixel in row : \n",
    "                try : \n",
    "                    [r,g,b,s] = pixel\n",
    "                except ValueError : \n",
    "                    [r,g,b] = pixel\n",
    "                return_image[-1].append(numpy.uint8((int(r)+int(g)+int(b))/3))\n",
    "        return numpy.array(return_image)\n",
    "    \n",
    "    harmless_image = convert_to_harmless_image(plt.imread(working_directory + image_name))\n",
    "    return(rgb_to_grayscale(harmless_image))\n",
    "\n",
    "image = read_image('sample_image_3.png')\n",
    "\n",
    "plt.imshow(image,cmap=matplotlib.pyplot.get_cmap('gray'))\n",
    "\n",
    "kernel = [1,[[-1,0,1],[-1,0,1],[-1,0,1]]]\n",
    "kernel_normalizer = 9"
   ]
  },
  {
   "cell_type": "code",
   "execution_count": null,
   "metadata": {
    "collapsed": true
   },
   "outputs": [],
   "source": []
  }
 ],
 "metadata": {
  "kernelspec": {
   "display_name": "Python 3",
   "language": "python",
   "name": "python3"
  },
  "language_info": {
   "codemirror_mode": {
    "name": "ipython",
    "version": 3
   },
   "file_extension": ".py",
   "mimetype": "text/x-python",
   "name": "python",
   "nbconvert_exporter": "python",
   "pygments_lexer": "ipython3",
   "version": "3.4.3"
  }
 },
 "nbformat": 4,
 "nbformat_minor": 0
}
