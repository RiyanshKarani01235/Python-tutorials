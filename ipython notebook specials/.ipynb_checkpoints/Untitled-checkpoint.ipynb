{
 "cells": [
  {
   "cell_type": "code",
   "execution_count": 1,
   "metadata": {
    "collapsed": false
   },
   "outputs": [
    {
     "data": {
      "text/html": [
       "\n",
       "\n",
       "<style>\n",
       "\n",
       "</style>\n",
       "\n",
       "<div id=\"fig_el13094360742560583693274\"></div>\n",
       "<script>\n",
       "function mpld3_load_lib(url, callback){\n",
       "  var s = document.createElement('script');\n",
       "  s.src = url;\n",
       "  s.async = true;\n",
       "  s.onreadystatechange = s.onload = callback;\n",
       "  s.onerror = function(){console.warn(\"failed to load library \" + url);};\n",
       "  document.getElementsByTagName(\"head\")[0].appendChild(s);\n",
       "}\n",
       "\n",
       "if(typeof(mpld3) !== \"undefined\" && mpld3._mpld3IsLoaded){\n",
       "   // already loaded: just create the figure\n",
       "   !function(mpld3){\n",
       "       \n",
       "       mpld3.draw_figure(\"fig_el13094360742560583693274\", {\"width\": 640.0, \"plugins\": [{\"type\": \"reset\"}, {\"button\": true, \"enabled\": false, \"type\": \"zoom\"}, {\"button\": true, \"enabled\": false, \"type\": \"boxzoom\"}], \"id\": \"el13094360742560\", \"data\": {\"data01\": [[0.0, 3.0], [1.0, 1.0], [2.0, 4.0], [3.0, 1.0], [4.0, 5.0]]}, \"height\": 480.0, \"axes\": [{\"xscale\": \"linear\", \"sharey\": [], \"xdomain\": [0.0, 4.0], \"images\": [], \"paths\": [], \"ylim\": [1.0, 5.0], \"axesbgalpha\": null, \"sharex\": [], \"bbox\": [0.125, 0.09999999999999998, 0.775, 0.8], \"texts\": [], \"yscale\": \"linear\", \"collections\": [], \"axesbg\": \"#FFFFFF\", \"id\": \"el13094387962440\", \"axes\": [{\"tickformat\": null, \"grid\": {\"gridOn\": false}, \"scale\": \"linear\", \"fontsize\": 12.0, \"nticks\": 9, \"position\": \"bottom\", \"tickvalues\": null}, {\"tickformat\": null, \"grid\": {\"gridOn\": false}, \"scale\": \"linear\", \"fontsize\": 12.0, \"nticks\": 9, \"position\": \"left\", \"tickvalues\": null}], \"xlim\": [0.0, 4.0], \"lines\": [{\"id\": \"el13094389180248\", \"zorder\": 2, \"linewidth\": 1.0, \"coordinates\": \"data\", \"yindex\": 1, \"dasharray\": \"10,0\", \"xindex\": 0, \"alpha\": 1, \"color\": \"#000000\", \"data\": \"data01\"}], \"zoomable\": true, \"ydomain\": [1.0, 5.0], \"markers\": [{\"id\": \"el13094389180248pts\", \"edgewidth\": 5, \"coordinates\": \"data\", \"yindex\": 1, \"xindex\": 0, \"edgecolor\": \"#FFFFFF\", \"zorder\": 2, \"facecolor\": \"#000000\", \"alpha\": 1, \"data\": \"data01\", \"markerpath\": [[[-10.0, 10.0], [10.0, 10.0], [10.0, -10.0], [-10.0, -10.0]], [\"M\", \"L\", \"L\", \"L\", \"Z\"]]}]}]});\n",
       "   }(mpld3);\n",
       "}else if(typeof define === \"function\" && define.amd){\n",
       "   // require.js is available: use it to load d3/mpld3\n",
       "   require.config({paths: {d3: \"https://mpld3.github.io/js/d3.v3.min\"}});\n",
       "   require([\"d3\"], function(d3){\n",
       "      window.d3 = d3;\n",
       "      mpld3_load_lib(\"https://mpld3.github.io/js/mpld3.v0.2.js\", function(){\n",
       "         \n",
       "         mpld3.draw_figure(\"fig_el13094360742560583693274\", {\"width\": 640.0, \"plugins\": [{\"type\": \"reset\"}, {\"button\": true, \"enabled\": false, \"type\": \"zoom\"}, {\"button\": true, \"enabled\": false, \"type\": \"boxzoom\"}], \"id\": \"el13094360742560\", \"data\": {\"data01\": [[0.0, 3.0], [1.0, 1.0], [2.0, 4.0], [3.0, 1.0], [4.0, 5.0]]}, \"height\": 480.0, \"axes\": [{\"xscale\": \"linear\", \"sharey\": [], \"xdomain\": [0.0, 4.0], \"images\": [], \"paths\": [], \"ylim\": [1.0, 5.0], \"axesbgalpha\": null, \"sharex\": [], \"bbox\": [0.125, 0.09999999999999998, 0.775, 0.8], \"texts\": [], \"yscale\": \"linear\", \"collections\": [], \"axesbg\": \"#FFFFFF\", \"id\": \"el13094387962440\", \"axes\": [{\"tickformat\": null, \"grid\": {\"gridOn\": false}, \"scale\": \"linear\", \"fontsize\": 12.0, \"nticks\": 9, \"position\": \"bottom\", \"tickvalues\": null}, {\"tickformat\": null, \"grid\": {\"gridOn\": false}, \"scale\": \"linear\", \"fontsize\": 12.0, \"nticks\": 9, \"position\": \"left\", \"tickvalues\": null}], \"xlim\": [0.0, 4.0], \"lines\": [{\"id\": \"el13094389180248\", \"zorder\": 2, \"linewidth\": 1.0, \"coordinates\": \"data\", \"yindex\": 1, \"dasharray\": \"10,0\", \"xindex\": 0, \"alpha\": 1, \"color\": \"#000000\", \"data\": \"data01\"}], \"zoomable\": true, \"ydomain\": [1.0, 5.0], \"markers\": [{\"id\": \"el13094389180248pts\", \"edgewidth\": 5, \"coordinates\": \"data\", \"yindex\": 1, \"xindex\": 0, \"edgecolor\": \"#FFFFFF\", \"zorder\": 2, \"facecolor\": \"#000000\", \"alpha\": 1, \"data\": \"data01\", \"markerpath\": [[[-10.0, 10.0], [10.0, 10.0], [10.0, -10.0], [-10.0, -10.0]], [\"M\", \"L\", \"L\", \"L\", \"Z\"]]}]}]});\n",
       "      });\n",
       "    });\n",
       "}else{\n",
       "    // require.js not available: dynamically load d3 & mpld3\n",
       "    mpld3_load_lib(\"https://mpld3.github.io/js/d3.v3.min.js\", function(){\n",
       "         mpld3_load_lib(\"https://mpld3.github.io/js/mpld3.v0.2.js\", function(){\n",
       "                 \n",
       "                 mpld3.draw_figure(\"fig_el13094360742560583693274\", {\"width\": 640.0, \"plugins\": [{\"type\": \"reset\"}, {\"button\": true, \"enabled\": false, \"type\": \"zoom\"}, {\"button\": true, \"enabled\": false, \"type\": \"boxzoom\"}], \"id\": \"el13094360742560\", \"data\": {\"data01\": [[0.0, 3.0], [1.0, 1.0], [2.0, 4.0], [3.0, 1.0], [4.0, 5.0]]}, \"height\": 480.0, \"axes\": [{\"xscale\": \"linear\", \"sharey\": [], \"xdomain\": [0.0, 4.0], \"images\": [], \"paths\": [], \"ylim\": [1.0, 5.0], \"axesbgalpha\": null, \"sharex\": [], \"bbox\": [0.125, 0.09999999999999998, 0.775, 0.8], \"texts\": [], \"yscale\": \"linear\", \"collections\": [], \"axesbg\": \"#FFFFFF\", \"id\": \"el13094387962440\", \"axes\": [{\"tickformat\": null, \"grid\": {\"gridOn\": false}, \"scale\": \"linear\", \"fontsize\": 12.0, \"nticks\": 9, \"position\": \"bottom\", \"tickvalues\": null}, {\"tickformat\": null, \"grid\": {\"gridOn\": false}, \"scale\": \"linear\", \"fontsize\": 12.0, \"nticks\": 9, \"position\": \"left\", \"tickvalues\": null}], \"xlim\": [0.0, 4.0], \"lines\": [{\"id\": \"el13094389180248\", \"zorder\": 2, \"linewidth\": 1.0, \"coordinates\": \"data\", \"yindex\": 1, \"dasharray\": \"10,0\", \"xindex\": 0, \"alpha\": 1, \"color\": \"#000000\", \"data\": \"data01\"}], \"zoomable\": true, \"ydomain\": [1.0, 5.0], \"markers\": [{\"id\": \"el13094389180248pts\", \"edgewidth\": 5, \"coordinates\": \"data\", \"yindex\": 1, \"xindex\": 0, \"edgecolor\": \"#FFFFFF\", \"zorder\": 2, \"facecolor\": \"#000000\", \"alpha\": 1, \"data\": \"data01\", \"markerpath\": [[[-10.0, 10.0], [10.0, 10.0], [10.0, -10.0], [-10.0, -10.0]], [\"M\", \"L\", \"L\", \"L\", \"Z\"]]}]}]});\n",
       "            })\n",
       "         });\n",
       "}\n",
       "</script>"
      ],
      "text/plain": [
       "<IPython.core.display.HTML object>"
      ]
     },
     "execution_count": 1,
     "metadata": {},
     "output_type": "execute_result"
    }
   ],
   "source": [
    "%matplotlib inline\n",
    "import mpld3\n",
    "\n",
    "import matplotlib as mpl\n",
    "from mpl_toolkits.mplot3d import Axes3D\n",
    "import numpy as np\n",
    "import matplotlib.pyplot as plt\n",
    "\n",
    "mpl.rcParams['legend.fontsize'] = 10\n",
    "\n",
    "fig = plt.figure()\n",
    "ax = fig.gca(projection='3d')\n",
    "theta = np.linspace(-4 * np.pi, 4 * np.pi, 100)\n",
    "z = np.linspace(-2, 2, 100)\n",
    "r = z**2 + 1\n",
    "x = r * np.sin(theta)\n",
    "y = r * np.cos(theta)\n",
    "ax.plot(x, y, z, label='parametric curve')\n",
    "ax.legend()\n",
    "\n",
    "plt.show()\n",
    "mpld3.display(ax)\n"
   ]
  },
  {
   "cell_type": "code",
   "execution_count": null,
   "metadata": {
    "collapsed": true
   },
   "outputs": [],
   "source": []
  }
 ],
 "metadata": {
  "kernelspec": {
   "display_name": "Python 3",
   "language": "python",
   "name": "python3"
  },
  "language_info": {
   "codemirror_mode": {
    "name": "ipython",
    "version": 3
   },
   "file_extension": ".py",
   "mimetype": "text/x-python",
   "name": "python",
   "nbconvert_exporter": "python",
   "pygments_lexer": "ipython3",
   "version": "3.4.3"
  }
 },
 "nbformat": 4,
 "nbformat_minor": 0
}
