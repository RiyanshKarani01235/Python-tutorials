{
 "cells": [
  {
   "cell_type": "markdown",
   "metadata": {},
   "source": [
    "# steps in the process : \n",
    "* Compile a C file into a **shared object library**\n",
    "* write a **python wrapper** for the shared object library\n",
    "    * attaching **type signatures** to c function attributes and returns\n",
    "    * defining **python wrapper function** for the corresponding C functions\\\n",
    "    * defining **classes** to represent **C data types** in python\n",
    "    * defining **classes** to represent **Structures in C**"
   ]
  },
  {
   "cell_type": "markdown",
   "metadata": {},
   "source": [
    "# setup\n",
    "locating the working directory"
   ]
  },
  {
   "cell_type": "code",
   "execution_count": 1,
   "metadata": {
    "collapsed": false
   },
   "outputs": [
    {
     "name": "stdout",
     "output_type": "stream",
     "text": [
      "Overwriting locate_file.py\n"
     ]
    }
   ],
   "source": [
    "%%file locate_file.py\n",
    "\n",
    "def locate_file() : \n",
    "    working_directory = ''\n",
    "    for element in __file__.split('/')[:-1] :\n",
    "        working_directory += element + '/'\n",
    "    return working_directory"
   ]
  },
  {
   "cell_type": "code",
   "execution_count": 2,
   "metadata": {
    "collapsed": false
   },
   "outputs": [],
   "source": [
    "import locate_file\n",
    "working_directory = locate_file.locate_file()\n",
    "\n",
    "import os\n",
    "os.chdir(working_directory)"
   ]
  },
  {
   "cell_type": "markdown",
   "metadata": {},
   "source": [
    "# C file"
   ]
  },
  {
   "cell_type": "code",
   "execution_count": 3,
   "metadata": {
    "collapsed": false
   },
   "outputs": [
    {
     "name": "stdout",
     "output_type": "stream",
     "text": [
      "Overwriting sample.c\n"
     ]
    }
   ],
   "source": [
    "%%file sample.c\n",
    "#include <math.h>\n",
    "#include \"Python/Python.h\"\n",
    "\n",
    "int divide(int a,int b,int *remainder) {\n",
    "    int quot = a/b;\n",
    "    *remainder = a%b;\n",
    "    return quot;\n",
    "}\n",
    "\n",
    "void avg(double *a,int n) {\n",
    "    int i;\n",
    "    double total = 0.0;\n",
    "    for(i=0;i<n;i++) {\n",
    "        //total += *(a+i);\n",
    "        *(a+i) += 1;\n",
    "    }\n",
    "    //return total/n;\n",
    "}"
   ]
  },
  {
   "cell_type": "markdown",
   "metadata": {},
   "source": [
    "# Compiling the C file into a shared object library"
   ]
  },
  {
   "cell_type": "code",
   "execution_count": 4,
   "metadata": {
    "collapsed": false
   },
   "outputs": [
    {
     "name": "stdout",
     "output_type": "stream",
     "text": [
      "libsample.so: Mach-O 64-bit dynamically linked shared library x86_64\r\n"
     ]
    }
   ],
   "source": [
    "os.system('cd '+ working_directory)\n",
    "!clang -c sample.c\n",
    "!clang -o libsample.so -shared sample.o\n",
    "!file libsample.so"
   ]
  },
  {
   "cell_type": "markdown",
   "metadata": {},
   "source": [
    "# Python extension for wrapping the shared object library"
   ]
  },
  {
   "cell_type": "markdown",
   "metadata": {},
   "source": [
    "### *loading the shared object library*"
   ]
  },
  {
   "cell_type": "code",
   "execution_count": 5,
   "metadata": {
    "collapsed": false
   },
   "outputs": [],
   "source": [
    "import ctypes\n",
    "_sample_ = ctypes.cdll.LoadLibrary(working_directory + 'libsample.so')"
   ]
  },
  {
   "cell_type": "markdown",
   "metadata": {},
   "source": [
    "### *attaching type signatures to C function attributes and return values*"
   ]
  },
  {
   "cell_type": "markdown",
   "metadata": {},
   "source": [
    "the *.argtypes* attribute is a tuple containint the input arguments to a fuction"
   ]
  },
  {
   "cell_type": "code",
   "execution_count": 6,
   "metadata": {
    "collapsed": true
   },
   "outputs": [],
   "source": [
    "_sample_.divide.argtypes = [ctypes.c_int,ctypes.c_int,ctypes.POINTER(ctypes.c_int)]"
   ]
  },
  {
   "cell_type": "markdown",
   "metadata": {},
   "source": [
    "*.restype* is the return type of the function"
   ]
  },
  {
   "cell_type": "code",
   "execution_count": 7,
   "metadata": {
    "collapsed": true
   },
   "outputs": [],
   "source": [
    "_sample_.divide.restype = ctypes.c_int"
   ]
  },
  {
   "cell_type": "markdown",
   "metadata": {},
   "source": [
    "Attaching the type signatures is critical if you want to make Python pass the right kinds of arguments and convert data correctly. If you don't do this, not only will the code work, but you might cause the entire interpreter process to crash."
   ]
  },
  {
   "cell_type": "markdown",
   "metadata": {},
   "source": [
    "### python wrapper function for the corresponding C function"
   ]
  },
  {
   "cell_type": "code",
   "execution_count": 8,
   "metadata": {
    "collapsed": true
   },
   "outputs": [],
   "source": [
    "def divide(x,y) : \n",
    "    #for arguments involving pointers, you ususlly have to construct a\n",
    "    #compatible ctypes object and pass it in like this\n",
    "    remainder = ctypes.c_int()\n",
    "    quotient = _sample_.divide(x,y,remainder)\n",
    "    return quotient,remainder.value"
   ]
  },
  {
   "cell_type": "code",
   "execution_count": 9,
   "metadata": {
    "collapsed": false
   },
   "outputs": [
    {
     "data": {
      "text/plain": [
       "(0, 2)"
      ]
     },
     "execution_count": 9,
     "metadata": {},
     "output_type": "execute_result"
    }
   ],
   "source": [
    "divide(2,3)"
   ]
  },
  {
   "cell_type": "markdown",
   "metadata": {},
   "source": [
    "### python classes for defining types in C"
   ]
  },
  {
   "cell_type": "markdown",
   "metadata": {},
   "source": [
    "<p>for the avg() function, the underlying C code expects to receive a pointer and a length representing an array. However, from the python side, we must consider the following questions :</p> \n",
    "* what is an array?\n",
    "* Is it a list, or a tuple, or a numpy array?\n",
    "* Is it all of these?\n",
    "\n",
    "<p>In practice, you would want an array to take multiple forms, and support multiple possibilities.</p>\n",
    "In such situations, we write a python class that makes this possible."
   ]
  },
  {
   "cell_type": "markdown",
   "metadata": {},
   "source": [
    "<p>In our case, we write the **DoubleArrayType class** to handle this situation.</p>\n",
    "The *from_param()* method is defined to take a single parameter and then narrow it down to compatible ctypes object. (the name \"*from_param*\" is important, since the ctypes module searches for the method **with this name** inside the defined class, when such a class is set as *.argtypes* or *.restypes* attribute for a function, as a part of typechecking)"
   ]
  },
  {
   "cell_type": "code",
   "execution_count": 10,
   "metadata": {
    "collapsed": true
   },
   "outputs": [],
   "source": [
    "class DoubleArrayType() : \n",
    "    \n",
    "    def from_param(self,param) : \n",
    "        typename = type(param).__name__\n",
    "        if hasattr(self,'from_'+typename) : \n",
    "            return getattr(self,'from_'+typename)(param)\n",
    "        elif isinstance(param,ctypes.Array) : \n",
    "            return param\n",
    "        else : \n",
    "            raise TypeError('Can not convert %s' %typename)"
   ]
  },
  {
   "cell_type": "markdown",
   "metadata": {},
   "source": [
    "The corresponding functions then convert the valid input datatype, C compatible ctypes object"
   ]
  },
  {
   "cell_type": "code",
   "execution_count": 20,
   "metadata": {
    "collapsed": false
   },
   "outputs": [],
   "source": [
    "import numpy\n",
    "\n",
    "def from_list(self,param) : \n",
    "#     val = ((ctypes.c_double)*len(param))(*param) #converts into a c_int_Array object\n",
    "#     return val\n",
    "    c_array = numpy.ascontiguousarray(param,dtype=int,order='C')\n",
    "    pointer = c_array.ctypes\n",
    "    return pointer\n",
    "DoubleArrayType.from_list = from_list\n",
    "\n",
    "def from_tuple(self,param) : \n",
    "    return self.from_list(param)\n",
    "DoubleArrayType.from_tuple = from_tuple\n",
    "\n",
    "def from_ndarray(self,param) : \n",
    "    return param.ctypes.data_as(ctypes.POINTER(ctypes.c_double))\n",
    "#     return self.from_list(param)\n",
    "DoubleArrayType.from_ndarray = from_ndarray"
   ]
  },
  {
   "cell_type": "markdown",
   "metadata": {},
   "source": [
    "Now, setting the DoubleArray class object as one of the **argtypes** for *_sample_.avg* function"
   ]
  },
  {
   "cell_type": "code",
   "execution_count": 21,
   "metadata": {
    "collapsed": false
   },
   "outputs": [],
   "source": [
    "DoubleArray = DoubleArrayType()\n",
    "_sample_.avg.argtypes = [DoubleArray,ctypes.c_int]\n",
    "# _sample_.avg.restype = ctypes.c_double\n",
    "_sample_.avg.restype = ctypes.c_void_p"
   ]
  },
  {
   "cell_type": "markdown",
   "metadata": {},
   "source": [
    "The last thing to do is to define a wrapper function for the *_sample_.avg* C function"
   ]
  },
  {
   "cell_type": "code",
   "execution_count": 22,
   "metadata": {
    "collapsed": true
   },
   "outputs": [],
   "source": [
    "def avg(values) : \n",
    "    return _sample_.avg(values,len(values))"
   ]
  },
  {
   "cell_type": "code",
   "execution_count": 23,
   "metadata": {
    "collapsed": false
   },
   "outputs": [
    {
     "ename": "ArgumentError",
     "evalue": "argument 1: <class 'TypeError'>: ascontiguousarray() got an unexpected keyword argument 'order'",
     "output_type": "error",
     "traceback": [
      "\u001b[0;31m---------------------------------------------------------------------------\u001b[0m",
      "\u001b[0;31mArgumentError\u001b[0m                             Traceback (most recent call last)",
      "\u001b[0;32m<ipython-input-23-f1187b723276>\u001b[0m in \u001b[0;36m<module>\u001b[0;34m()\u001b[0m\n\u001b[1;32m      1\u001b[0m \u001b[0;32mimport\u001b[0m \u001b[0mnumpy\u001b[0m \u001b[0;32mas\u001b[0m \u001b[0mnp\u001b[0m\u001b[0;34m\u001b[0m\u001b[0m\n\u001b[1;32m      2\u001b[0m \u001b[0marr\u001b[0m \u001b[0;34m=\u001b[0m \u001b[0;34m[\u001b[0m\u001b[0;36m1.0\u001b[0m\u001b[0;34m,\u001b[0m\u001b[0;36m2.0\u001b[0m\u001b[0;34m,\u001b[0m\u001b[0;36m3.0\u001b[0m\u001b[0;34m,\u001b[0m\u001b[0;36m4.0\u001b[0m\u001b[0;34m,\u001b[0m\u001b[0;36m5.0\u001b[0m\u001b[0;34m]\u001b[0m\u001b[0;34m\u001b[0m\u001b[0m\n\u001b[0;32m----> 3\u001b[0;31m \u001b[0mavg\u001b[0m\u001b[0;34m(\u001b[0m\u001b[0marr\u001b[0m\u001b[0;34m)\u001b[0m\u001b[0;34m\u001b[0m\u001b[0m\n\u001b[0m\u001b[1;32m      4\u001b[0m \u001b[0marr\u001b[0m\u001b[0;34m\u001b[0m\u001b[0m\n",
      "\u001b[0;32m<ipython-input-22-84c4731f18cb>\u001b[0m in \u001b[0;36mavg\u001b[0;34m(values)\u001b[0m\n\u001b[1;32m      1\u001b[0m \u001b[0;32mdef\u001b[0m \u001b[0mavg\u001b[0m\u001b[0;34m(\u001b[0m\u001b[0mvalues\u001b[0m\u001b[0;34m)\u001b[0m \u001b[0;34m:\u001b[0m\u001b[0;34m\u001b[0m\u001b[0m\n\u001b[0;32m----> 2\u001b[0;31m     \u001b[0;32mreturn\u001b[0m \u001b[0m_sample_\u001b[0m\u001b[0;34m.\u001b[0m\u001b[0mavg\u001b[0m\u001b[0;34m(\u001b[0m\u001b[0mvalues\u001b[0m\u001b[0;34m,\u001b[0m\u001b[0mlen\u001b[0m\u001b[0;34m(\u001b[0m\u001b[0mvalues\u001b[0m\u001b[0;34m)\u001b[0m\u001b[0;34m)\u001b[0m\u001b[0;34m\u001b[0m\u001b[0m\n\u001b[0m",
      "\u001b[0;31mArgumentError\u001b[0m: argument 1: <class 'TypeError'>: ascontiguousarray() got an unexpected keyword argument 'order'"
     ]
    }
   ],
   "source": [
    "import numpy as np\n",
    "arr = [1.0,2.0,3.0,4.0,5.0]\n",
    "avg(arr)\n",
    "arr"
   ]
  },
  {
   "cell_type": "code",
   "execution_count": null,
   "metadata": {
    "collapsed": true
   },
   "outputs": [],
   "source": []
  },
  {
   "cell_type": "code",
   "execution_count": null,
   "metadata": {
    "collapsed": true
   },
   "outputs": [],
   "source": []
  }
 ],
 "metadata": {
  "kernelspec": {
   "display_name": "Python 3",
   "language": "python",
   "name": "python3"
  },
  "language_info": {
   "codemirror_mode": {
    "name": "ipython",
    "version": 3
   },
   "file_extension": ".py",
   "mimetype": "text/x-python",
   "name": "python",
   "nbconvert_exporter": "python",
   "pygments_lexer": "ipython3",
   "version": "3.4.3"
  }
 },
 "nbformat": 4,
 "nbformat_minor": 0
}
